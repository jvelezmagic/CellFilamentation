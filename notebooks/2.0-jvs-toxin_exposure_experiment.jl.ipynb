{
 "cells": [
  {
   "cell_type": "markdown",
   "source": [
    "# 2.0 Toxin Expusure Experiment"
   ],
   "metadata": {}
  },
  {
   "cell_type": "markdown",
   "source": [
    "## Activate project"
   ],
   "metadata": {}
  },
  {
   "cell_type": "code",
   "execution_count": 1,
   "source": [
    "using DrWatson\n",
    "@quickactivate :CellFilamentation"
   ],
   "outputs": [],
   "metadata": {}
  },
  {
   "cell_type": "markdown",
   "source": [
    "## Differential equation algorithms"
   ],
   "metadata": {}
  },
  {
   "cell_type": "code",
   "execution_count": 2,
   "source": [
    "choice_function(integrator) = (Int(integrator.dt < 0.001) + 1)\n",
    "alg_switch = CompositeAlgorithm((Tsit5(), Vern7()), choice_function);"
   ],
   "outputs": [],
   "metadata": {}
  },
  {
   "cell_type": "markdown",
   "source": [
    "## Initialize an Cell structure"
   ],
   "metadata": {}
  },
  {
   "cell_type": "code",
   "execution_count": 3,
   "source": [
    "cell = Cell(max_height=4.0)"
   ],
   "outputs": [
    {
     "output_type": "execute_result",
     "data": {
      "text/plain": [
       "Cell{Float64}\n",
       "  side_length: Float64 0.6\n",
       "  radius: Float64 0.2\n",
       "  internal_toxin: Float64 0.0\n",
       "  toxin_diffusion_rate: Float64 0.3\n",
       "  antitoxin: Float64 0.0\n",
       "  antitoxin_efficacy: Float64 0.0\n",
       "  filamentation_rate: Float64 0.1\n",
       "  filamentation_threshold: Float64 0.5\n",
       "  kill_threshold: Float64 1.0\n",
       "  max_height: Float64 4.0\n",
       "  noise_int_toxin: Float64 0.1\n",
       "  noise_height: Float64 0.0\n",
       "  τ_filamentation: Float64 Inf\n",
       "  τ_kill: Float64 Inf\n",
       "  τ_delay: Float64 0.0\n",
       "  state: Symbol Normal\n"
      ]
     },
     "metadata": {},
     "execution_count": 3
    },
    {
     "output_type": "stream",
     "name": "stderr",
     "text": [
      "WARNING: both DifferentialEquations and DataFramesMeta export \"flatten\"; uses of it in module CellFilamentation must be qualified\n",
      "WARNING: both Interpolations and Distributions export \"scale\"; uses of it in module CellFilamentation must be qualified\n"
     ]
    }
   ],
   "metadata": {}
  },
  {
   "cell_type": "markdown",
   "source": [
    "## Establish parameters"
   ],
   "metadata": {}
  },
  {
   "cell_type": "code",
   "execution_count": 4,
   "source": [
    "amount_toxins = collect(0.0:0.1:3.0)\n",
    "exposure_times = collect(0:1.0:100);"
   ],
   "outputs": [],
   "metadata": {}
  },
  {
   "cell_type": "markdown",
   "source": [
    "## Run experiment"
   ],
   "metadata": {}
  },
  {
   "cell_type": "code",
   "execution_count": 5,
   "source": [
    "ordinary_df = toxin_exposure_experiment(cell, amount_toxins, exposure_times, 100, true, 1, true);"
   ],
   "outputs": [],
   "metadata": {}
  },
  {
   "cell_type": "markdown",
   "source": [
    "## Process experiment\n"
   ],
   "metadata": {}
  },
  {
   "cell_type": "markdown",
   "source": [
    "Find the differences between control and filamentation experiments"
   ],
   "metadata": {}
  },
  {
   "cell_type": "code",
   "execution_count": 6,
   "source": [
    "tmp_df = ordinary_df |>\n",
    "    x->@where(x, :state .== Symbol(\"Dead\")) |>\n",
    "    x->groupby(x, [:exposure_time, :experiment]) |>\n",
    "    x->combine(y->y[y.amount_toxin .== minimum(y.amount_toxin), :], x) |>\n",
    "    x->@orderby(x, :exposure_time, :experiment);\n",
    "\n",
    "a, b = [subdf[!, [:exposure_time, :amount_toxin]] for subdf in groupby(tmp_df, :experiment)];\n",
    "a = a[argmax(a[!, :exposure_time] .≥ b[!, :exposure_time][1]):end, :]\n",
    "c = DataFrame(exposure_time=b[!, :exposure_time], tolerance=b[!, :amount_toxin] - a[!, :amount_toxin]);"
   ],
   "outputs": [],
   "metadata": {}
  },
  {
   "cell_type": "code",
   "execution_count": null,
   "source": [
    "CSV.write(datadir(\"exp_raw\", \"toxin_exposure_experiment.csv\"), ordinary_df);\n",
    "CSV.write(datadir(\"exp_raw\", \"increase_resistance.csv\"), c);"
   ],
   "outputs": [],
   "metadata": {}
  },
  {
   "cell_type": "markdown",
   "source": [
    "## Plot experiment\n"
   ],
   "metadata": {}
  },
  {
   "cell_type": "markdown",
   "source": [
    "### Heatmaps\n"
   ],
   "metadata": {}
  },
  {
   "cell_type": "code",
   "execution_count": null,
   "source": [
    "p1 = plot_toxin_exposure_experiment(ordinary_df);"
   ],
   "outputs": [],
   "metadata": {}
  },
  {
   "cell_type": "markdown",
   "source": [
    "### Diffence between experimentes\n"
   ],
   "metadata": {}
  },
  {
   "cell_type": "code",
   "execution_count": null,
   "source": [
    "ll = @vlplot(\n",
    "    data=c,\n",
    "    width=625,\n",
    "    height=200,\n",
    "    #transform = [filter = {field=\"exposure_time\", range=[0, 20]}],\n",
    "    mark={\n",
    "        :area,\n",
    "        clip=true,\n",
    "        line={color=:darkgreen},\n",
    "        color = {\n",
    "            x1=1, y1=1, x2=1, y2=0,\n",
    "            gradient=\"linear\",\n",
    "            stops = [{offset=0, color=:white}, {offset=1, color=:darkgreen}]\n",
    "        }\n",
    "    },\n",
    "    x={\"exposure_time:q\", title=\"Exposure time\"},\n",
    "    y={\"tolerance:q\", title=\"Increased resistance\"},\n",
    "    \n",
    ");"
   ],
   "outputs": [],
   "metadata": {}
  },
  {
   "cell_type": "markdown",
   "source": [
    "### Main figure\n"
   ],
   "metadata": {}
  },
  {
   "cell_type": "code",
   "execution_count": null,
   "source": [
    "incresed_time_resistence_plot = vcat(p1, ll)"
   ],
   "outputs": [],
   "metadata": {}
  },
  {
   "cell_type": "code",
   "execution_count": null,
   "source": [
    "save(plotsdir(\"incresed_time-resistence_plot.png\"), incresed_time_resistence_plot)\n",
    "save(plotsdir(\"incresed_time-resistence_plot.svg\"), incresed_time_resistence_plot)"
   ],
   "outputs": [],
   "metadata": {}
  }
 ],
 "metadata": {
  "kernelspec": {
   "display_name": "Julia 1.6.0",
   "name": "julia-1.6",
   "language": "julia"
  },
  "language_info": {
   "file_extension": ".jl",
   "name": "julia",
   "mimetype": "application/julia",
   "version": "1.6.0"
  },
  "orig_nbformat": 2
 },
 "nbformat": 4,
 "nbformat_minor": 2
}